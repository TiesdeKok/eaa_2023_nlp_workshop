{
 "cells": [
  {
   "cell_type": "markdown",
   "id": "faf0e7c3",
   "metadata": {},
   "source": [
    "# Preamble"
   ]
  },
  {
   "cell_type": "markdown",
   "id": "e2cb9d33",
   "metadata": {},
   "source": [
    "## Imports"
   ]
  },
  {
   "cell_type": "markdown",
   "id": "3871ea11",
   "metadata": {},
   "source": [
    "Standard imports"
   ]
  },
  {
   "cell_type": "code",
   "execution_count": 14,
   "id": "9d5362ca",
   "metadata": {},
   "outputs": [],
   "source": [
    "import sys, os, re, time, copy\n",
    "import pandas as pd\n",
    "import numpy as np\n",
    "from tqdm.notebook import tqdm\n",
    "import unidecode\n",
    "import html"
   ]
  },
  {
   "cell_type": "markdown",
   "id": "283de8a1",
   "metadata": {},
   "source": [
    "Language libraries:"
   ]
  },
  {
   "cell_type": "code",
   "execution_count": 15,
   "id": "343cb365",
   "metadata": {},
   "outputs": [],
   "source": [
    "from textblob import TextBlob"
   ]
  },
  {
   "cell_type": "code",
   "execution_count": 16,
   "id": "3477beba-6c17-4274-bba7-d8e0f6d77879",
   "metadata": {},
   "outputs": [],
   "source": [
    "## Importing spacy takes a few seconds\n",
    "\n",
    "import spacy\n",
    "nlp = spacy.load(\"en_core_web_sm\")\n",
    "nlp_big = spacy.load(\"en_core_web_lg\")"
   ]
  },
  {
   "cell_type": "markdown",
   "id": "8c303e62",
   "metadata": {},
   "source": [
    "### Settings"
   ]
  },
  {
   "cell_type": "markdown",
   "id": "3ce49094",
   "metadata": {},
   "source": [
    "Disable copy warnings in Pandas"
   ]
  },
  {
   "cell_type": "code",
   "execution_count": 17,
   "id": "e2a8d70f",
   "metadata": {},
   "outputs": [],
   "source": [
    "pd.options.mode.chained_assignment = None  # default='warn'"
   ]
  },
  {
   "cell_type": "markdown",
   "id": "ef2de8ca",
   "metadata": {},
   "source": [
    "Disable depreciation warnings"
   ]
  },
  {
   "cell_type": "code",
   "execution_count": 18,
   "id": "1a359d06",
   "metadata": {},
   "outputs": [],
   "source": [
    "def warn(*args, **kwargs):\n",
    "    pass\n",
    "import warnings\n",
    "warnings.warn = warn"
   ]
  },
  {
   "cell_type": "markdown",
   "id": "c401443d",
   "metadata": {},
   "source": [
    "-----\n",
    "# Part 1: Inspect the data\n",
    "-----"
   ]
  },
  {
   "cell_type": "markdown",
   "id": "07624a5a",
   "metadata": {},
   "source": [
    "## Load the data\n",
    "\n",
    "You can also download the Excel sheet directly by clicking here: [download](https://github.com/TiesdeKok/eaa_2023_nlp_workshop/raw/main/facebook_review_dataset.xlsx)"
   ]
  },
  {
   "cell_type": "code",
   "execution_count": 19,
   "id": "95cd3d68",
   "metadata": {},
   "outputs": [],
   "source": [
    "review_df = pd.read_excel('facebook_review_dataset.xlsx')"
   ]
  },
  {
   "cell_type": "markdown",
   "id": "4b3c100e",
   "metadata": {},
   "source": [
    "## Inspect the data"
   ]
  },
  {
   "cell_type": "markdown",
   "id": "8a4c5128",
   "metadata": {},
   "source": [
    "### Dataset"
   ]
  },
  {
   "cell_type": "code",
   "execution_count": 20,
   "id": "025948ff",
   "metadata": {},
   "outputs": [
    {
     "name": "stdout",
     "output_type": "stream",
     "text": [
      "The dataset contains 2290 reviews. \n",
      "The oldest review is from 2014-03-17 00:00:00 \n",
      "The newest review is from 2021-12-28 00:00:00.\n"
     ]
    },
    {
     "data": {
      "text/html": [
       "<div>\n",
       "<style scoped>\n",
       "    .dataframe tbody tr th:only-of-type {\n",
       "        vertical-align: middle;\n",
       "    }\n",
       "\n",
       "    .dataframe tbody tr th {\n",
       "        vertical-align: top;\n",
       "    }\n",
       "\n",
       "    .dataframe thead th {\n",
       "        text-align: right;\n",
       "    }\n",
       "</style>\n",
       "<table border=\"1\" class=\"dataframe\">\n",
       "  <thead>\n",
       "    <tr style=\"text-align: right;\">\n",
       "      <th></th>\n",
       "      <th>0</th>\n",
       "      <th>1</th>\n",
       "    </tr>\n",
       "  </thead>\n",
       "  <tbody>\n",
       "    <tr>\n",
       "      <th>date</th>\n",
       "      <td>2021-11-09 00:00:00</td>\n",
       "      <td>2021-12-25 00:00:00</td>\n",
       "    </tr>\n",
       "    <tr>\n",
       "      <th>year</th>\n",
       "      <td>2021</td>\n",
       "      <td>2021</td>\n",
       "    </tr>\n",
       "    <tr>\n",
       "      <th>rating</th>\n",
       "      <td>5</td>\n",
       "      <td>5</td>\n",
       "    </tr>\n",
       "    <tr>\n",
       "      <th>rating_wlb</th>\n",
       "      <td>5</td>\n",
       "      <td>5</td>\n",
       "    </tr>\n",
       "    <tr>\n",
       "      <th>rating_culture</th>\n",
       "      <td>5</td>\n",
       "      <td>5</td>\n",
       "    </tr>\n",
       "    <tr>\n",
       "      <th>rating_dei</th>\n",
       "      <td>5</td>\n",
       "      <td>4</td>\n",
       "    </tr>\n",
       "    <tr>\n",
       "      <th>rating_comp</th>\n",
       "      <td>5</td>\n",
       "      <td>4</td>\n",
       "    </tr>\n",
       "    <tr>\n",
       "      <th>job_title</th>\n",
       "      <td>Software Engineer</td>\n",
       "      <td>Data Scientist</td>\n",
       "    </tr>\n",
       "    <tr>\n",
       "      <th>location</th>\n",
       "      <td>Seattle, WA</td>\n",
       "      <td>San Francisco, CA</td>\n",
       "    </tr>\n",
       "    <tr>\n",
       "      <th>pros</th>\n",
       "      <td>I’m still a bit new, but I have very good impr...</td>\n",
       "      <td>Its all you hear about, fun and diverse and su...</td>\n",
       "    </tr>\n",
       "    <tr>\n",
       "      <th>cons</th>\n",
       "      <td>Some risk with new company direction. The meta...</td>\n",
       "      <td>You are evaluated nased on individual accompli...</td>\n",
       "    </tr>\n",
       "  </tbody>\n",
       "</table>\n",
       "</div>"
      ],
      "text/plain": [
       "                                                                0  \\\n",
       "date                                          2021-11-09 00:00:00   \n",
       "year                                                         2021   \n",
       "rating                                                          5   \n",
       "rating_wlb                                                      5   \n",
       "rating_culture                                                  5   \n",
       "rating_dei                                                      5   \n",
       "rating_comp                                                     5   \n",
       "job_title                                       Software Engineer   \n",
       "location                                              Seattle, WA   \n",
       "pros            I’m still a bit new, but I have very good impr...   \n",
       "cons            Some risk with new company direction. The meta...   \n",
       "\n",
       "                                                                1  \n",
       "date                                          2021-12-25 00:00:00  \n",
       "year                                                         2021  \n",
       "rating                                                          5  \n",
       "rating_wlb                                                      5  \n",
       "rating_culture                                                  5  \n",
       "rating_dei                                                      4  \n",
       "rating_comp                                                     4  \n",
       "job_title                                          Data Scientist  \n",
       "location                                        San Francisco, CA  \n",
       "pros            Its all you hear about, fun and diverse and su...  \n",
       "cons            You are evaluated nased on individual accompli...  "
      ]
     },
     "execution_count": 20,
     "metadata": {},
     "output_type": "execute_result"
    }
   ],
   "source": [
    "print(f\"The dataset contains {len(review_df)} reviews. \\nThe oldest review is from {review_df['date'].min()} \\nThe newest review is from {review_df['date'].max()}.\")\n",
    "review_df.head(2).T"
   ]
  },
  {
   "cell_type": "markdown",
   "id": "53589704",
   "metadata": {},
   "source": [
    "### Number of reviews by year"
   ]
  },
  {
   "cell_type": "code",
   "execution_count": 21,
   "id": "09fb4a0e",
   "metadata": {},
   "outputs": [
    {
     "data": {
      "text/plain": [
       "year\n",
       "2021    1123\n",
       "2020     572\n",
       "2019     226\n",
       "2018     239\n",
       "2017     128\n",
       "2016       1\n",
       "2014       1\n",
       "dtype: int64"
      ]
     },
     "execution_count": 21,
     "metadata": {},
     "output_type": "execute_result"
    }
   ],
   "source": [
    "review_df.value_counts('year').sort_index(ascending=False)"
   ]
  },
  {
   "cell_type": "markdown",
   "id": "de39df04",
   "metadata": {},
   "source": [
    "------\n",
    "## Evaluate the textual data that we are working with. \n",
    "-----"
   ]
  },
  {
   "cell_type": "markdown",
   "id": "fb6aa02a",
   "metadata": {},
   "source": [
    "### Show random review\n",
    "\n",
    "**Note:** Every time you run the code below it will show a different review in the dataset."
   ]
  },
  {
   "cell_type": "code",
   "execution_count": 22,
   "id": "bda8f184",
   "metadata": {},
   "outputs": [
    {
     "name": "stdout",
     "output_type": "stream",
     "text": [
      "Review by a Data Scientist in San Francisco, CA on 2021-12-25 00:00:00\n",
      "\n",
      "Pros: \n",
      "\n",
      "Its all you hear about, fun and diverse and super engaging. Full of opportunities\n",
      "\n",
      "Cons: \n",
      "\n",
      "You are evaluated nased on individual accomplishments, which is not always ideal to create an environment for contribution\n"
     ]
    }
   ],
   "source": [
    "review_row = review_df.sample(1).iloc[0].to_dict()\n",
    "\n",
    "print(f\"Review by a {review_row['job_title']} in {review_row['location']} on {review_row['date']}\")\n",
    "print(f\"\\nPros: \\n\\n{review_row['pros'].strip()}\")\n",
    "print(f\"\\nCons: \\n\\n{review_row['cons'].strip()}\")"
   ]
  },
  {
   "cell_type": "markdown",
   "id": "13584a79",
   "metadata": {},
   "source": [
    "## "
   ]
  },
  {
   "cell_type": "markdown",
   "id": "49c3d658",
   "metadata": {},
   "source": [
    "------"
   ]
  },
  {
   "cell_type": "markdown",
   "id": "84988c4a",
   "metadata": {},
   "source": [
    "\n",
    "# Part 2: Clean the data\n",
    "-----"
   ]
  },
  {
   "cell_type": "markdown",
   "id": "7923eb35",
   "metadata": {},
   "source": [
    "### Cleaning function"
   ]
  },
  {
   "cell_type": "code",
   "execution_count": 23,
   "id": "4283aa09",
   "metadata": {},
   "outputs": [],
   "source": [
    "def clean_text(input_str):\n",
    "    clean_str = copy.copy(input_str)\n",
    "\n",
    "    ## Remove special characters\n",
    "    clean_str = unidecode.unidecode(clean_str)\n",
    "    \n",
    "    ## Unescape special HTML characters\n",
    "    clean_str = html.unescape(clean_str)\n",
    "    \n",
    "    ## Replace Excel newline encoding errors\n",
    "    clean_str = clean_str.replace(\"_x000D_\", \" \")\n",
    "\n",
    "    ## Remove any non-letter characters except for regular sentence-ending punctuation\n",
    "    clean_str = re.sub(r'[^a-zA-Z\\s\\.!\\?\\\\n,]', '', clean_str)\n",
    "\n",
    "    ## Replace all \\s with a single space except for \\n\n",
    "    clean_str = re.sub(r'[ \\t\\x0B\\f\\r]+', ' ', clean_str)\n",
    "\n",
    "    ## Replace a newline with a dot and a space\n",
    "    clean_str = re.sub(r'\\s*\\n\\s*', '. ', clean_str)\n",
    "\n",
    "    ## Replace duplicate dots\n",
    "    clean_str = re.sub(r'\\.+', '.', clean_str)\n",
    "\n",
    "    ## Remove any leading or trailing spaces\n",
    "    clean_str = clean_str.strip()\n",
    "\n",
    "    ## Add trailing dot if not exists\n",
    "    if clean_str[-1] != '.':\n",
    "        clean_str += '.'\n",
    "\n",
    "    return clean_str"
   ]
  },
  {
   "cell_type": "markdown",
   "id": "f9cd2725",
   "metadata": {},
   "source": [
    "### Run"
   ]
  },
  {
   "cell_type": "code",
   "execution_count": 24,
   "id": "e1cfb8fc",
   "metadata": {},
   "outputs": [],
   "source": [
    "review_df['pros_clean'] = review_df['pros'].apply(clean_text)\n",
    "review_df['cons_clean'] = review_df['cons'].apply(clean_text)"
   ]
  },
  {
   "cell_type": "markdown",
   "id": "8a06c6f7",
   "metadata": {},
   "source": [
    "#### Add lower case version"
   ]
  },
  {
   "cell_type": "code",
   "execution_count": 25,
   "id": "5564b676",
   "metadata": {},
   "outputs": [],
   "source": [
    "review_df['pros_clean_l'] = review_df['pros_clean'].str.lower()\n",
    "review_df['cons_clean_l'] = review_df['cons_clean'].str.lower()"
   ]
  },
  {
   "cell_type": "markdown",
   "id": "3dee1b53-e1e8-4dce-9f01-18912cc3bb59",
   "metadata": {},
   "source": [
    "### Inspect"
   ]
  },
  {
   "cell_type": "code",
   "execution_count": 26,
   "id": "5bc93cff-11a2-48ee-917d-a04f2b9bc362",
   "metadata": {},
   "outputs": [
    {
     "name": "stdout",
     "output_type": "stream",
     "text": [
      "Review by a Software Engineer in Menlo Park, CA on 2020-09-07 00:00:00\n",
      "\n",
      "---------------\n",
      "Before cleaning:\n",
      "---------------\n",
      "\n",
      "Pros: \n",
      "\n",
      "- The engineering culture is still very bottom-up: teams generally have a lot of power and responsibility to determine what they work on._x000D_\n",
      "- Internal developer tools are a huge focus. Anything which slows developers down is fixed if possible._x000D_\n",
      "- Very good internal mobility: bootcamp means you have a good deal of leeway in finding a team, and, after a year internal mobility is encouraged._x000D_\n",
      "- Tons of opportunities to make millions of peoples' lives just a little bit better. Like it or not, Facebook's products are used by over a billion people worldwide. There are few places where improvements and fixes can have such a broad reach._x000D_\n",
      "- Lots of intellectual challenges: There are many types of challenges in building products for billions of people: technical (scaling and perf), product (how do you make it useful for everyone), regulatory (how to not fall afoul of privacy regulations), security (how to minimize badness that happens due to the products), and more.\n",
      "\n",
      "Cons: \n",
      "\n",
      "The biggest challenge facing Facebook right now is that it is simultaneously too big to run the way it runs now (with teams trying to fight for impact and all hacking on the same products), and too small to fit with the well-intentioned goals that Mark has for all of the ways that Facebook can help people._x000D_\n",
      "_x000D_\n",
      "A company without any strong sense of unifying purpose tends toward bloat and stagnation. It feels like this is the direction Facebook is heading. The amount of infighting between teams around responsibility and ownership of new features is growing and will only keep accelerating.\n",
      "\n",
      "---------------\n",
      "After cleaning:\n",
      "---------------\n",
      "\n",
      "Pros: \n",
      "\n",
      "The engineering culture is still very bottomup teams generally have a lot of power and responsibility to determine what they work on. Internal developer tools are a huge focus. Anything which slows developers down is fixed if possible. Very good internal mobility bootcamp means you have a good deal of leeway in finding a team, and, after a year internal mobility is encouraged. Tons of opportunities to make millions of peoples lives just a little bit better. Like it or not, Facebooks products are used by over a billion people worldwide. There are few places where improvements and fixes can have such a broad reach. Lots of intellectual challenges There are many types of challenges in building products for billions of people technical scaling and perf, product how do you make it useful for everyone, regulatory how to not fall afoul of privacy regulations, security how to minimize badness that happens due to the products, and more.\n",
      "\n",
      "Cons: \n",
      "\n",
      "The biggest challenge facing Facebook right now is that it is simultaneously too big to run the way it runs now with teams trying to fight for impact and all hacking on the same products, and too small to fit with the wellintentioned goals that Mark has for all of the ways that Facebook can help people. A company without any strong sense of unifying purpose tends toward bloat and stagnation. It feels like this is the direction Facebook is heading. The amount of infighting between teams around responsibility and ownership of new features is growing and will only keep accelerating.\n"
     ]
    }
   ],
   "source": [
    "review_row = review_df.sample(1).iloc[0].to_dict()\n",
    "\n",
    "print(f\"Review by a {review_row['job_title']} in {review_row['location']} on {review_row['date']}\")\n",
    "print(f\"\\n{'-'*15}\\nBefore cleaning:\\n{'-'*15}\")\n",
    "print(f\"\\nPros: \\n\\n{review_row['pros'].strip()}\")\n",
    "print(f\"\\nCons: \\n\\n{review_row['cons'].strip()}\")\n",
    "print(f\"\\n{'-'*15}\\nAfter cleaning:\\n{'-'*15}\")\n",
    "print(f\"\\nPros: \\n\\n{review_row['pros_clean'].strip()}\")\n",
    "print(f\"\\nCons: \\n\\n{review_row['cons_clean'].strip()}\")"
   ]
  },
  {
   "cell_type": "markdown",
   "id": "0fa8942f",
   "metadata": {},
   "source": [
    "------\n",
    "# Part 3: Analyze the text\n",
    "----"
   ]
  },
  {
   "cell_type": "markdown",
   "id": "1ebfbb1d-5292-4437-88b6-dc46dc53c9fc",
   "metadata": {},
   "source": [
    "## Let's quickly add a column that contains the full review text"
   ]
  },
  {
   "cell_type": "code",
   "execution_count": 27,
   "id": "be6ce95f-bdb0-4aea-a1ac-6c25d708703c",
   "metadata": {},
   "outputs": [],
   "source": [
    "review_df[\"full_review\"] = review_df[\"pros_clean\"] + \" \" + review_df[\"cons_clean\"]\n",
    "review_df[\"full_review_l\"] = review_df[\"pros_clean_l\"] + \" \" + review_df[\"cons_clean_l\"]"
   ]
  },
  {
   "cell_type": "markdown",
   "id": "adc97e97-38d5-4b30-951a-92a75032158f",
   "metadata": {},
   "source": [
    "------\n",
    "## Part 3a: Keyword counts\n",
    "----"
   ]
  },
  {
   "cell_type": "markdown",
   "id": "4acd86a3",
   "metadata": {},
   "source": [
    "### Count frequency of compensation keywords"
   ]
  },
  {
   "cell_type": "code",
   "execution_count": 28,
   "id": "847010bb-e1d5-42dd-b78c-fcc7aca2616d",
   "metadata": {},
   "outputs": [],
   "source": [
    "keywords_of_interest = ['salary', 'pay', 'benefits', 'bonus']\n",
    "\n",
    "count_columns = []\n",
    "for keyword in keywords_of_interest:\n",
    "    review_df[f'count_{keyword}'] = review_df['full_review_l'].str.count(keyword)**1\n",
    "    count_columns.append(f'count_{keyword}')"
   ]
  },
  {
   "cell_type": "markdown",
   "id": "6edfdfc7-4754-467e-ac89-5f77c4372c10",
   "metadata": {},
   "source": [
    "### Evaluate"
   ]
  },
  {
   "cell_type": "code",
   "execution_count": 29,
   "id": "1f79258a-f190-4f72-93d0-a326a0d6ca1a",
   "metadata": {},
   "outputs": [
    {
     "data": {
      "text/html": [
       "<div>\n",
       "<style scoped>\n",
       "    .dataframe tbody tr th:only-of-type {\n",
       "        vertical-align: middle;\n",
       "    }\n",
       "\n",
       "    .dataframe tbody tr th {\n",
       "        vertical-align: top;\n",
       "    }\n",
       "\n",
       "    .dataframe thead th {\n",
       "        text-align: right;\n",
       "    }\n",
       "</style>\n",
       "<table border=\"1\" class=\"dataframe\">\n",
       "  <thead>\n",
       "    <tr style=\"text-align: right;\">\n",
       "      <th></th>\n",
       "      <th>min</th>\n",
       "      <th>mean</th>\n",
       "      <th>max</th>\n",
       "    </tr>\n",
       "  </thead>\n",
       "  <tbody>\n",
       "    <tr>\n",
       "      <th>count_salary</th>\n",
       "      <td>0.0</td>\n",
       "      <td>0.064629</td>\n",
       "      <td>8.0</td>\n",
       "    </tr>\n",
       "    <tr>\n",
       "      <th>count_pay</th>\n",
       "      <td>0.0</td>\n",
       "      <td>0.141048</td>\n",
       "      <td>2.0</td>\n",
       "    </tr>\n",
       "    <tr>\n",
       "      <th>count_benefits</th>\n",
       "      <td>0.0</td>\n",
       "      <td>0.296070</td>\n",
       "      <td>4.0</td>\n",
       "    </tr>\n",
       "    <tr>\n",
       "      <th>count_bonus</th>\n",
       "      <td>0.0</td>\n",
       "      <td>0.016157</td>\n",
       "      <td>2.0</td>\n",
       "    </tr>\n",
       "  </tbody>\n",
       "</table>\n",
       "</div>"
      ],
      "text/plain": [
       "                min      mean  max\n",
       "count_salary    0.0  0.064629  8.0\n",
       "count_pay       0.0  0.141048  2.0\n",
       "count_benefits  0.0  0.296070  4.0\n",
       "count_bonus     0.0  0.016157  2.0"
      ]
     },
     "execution_count": 29,
     "metadata": {},
     "output_type": "execute_result"
    }
   ],
   "source": [
    "review_df[count_columns].describe().T[['min', 'mean', 'max']]"
   ]
  },
  {
   "cell_type": "code",
   "execution_count": 30,
   "id": "3a087e96-0536-48a1-981e-27866bd331ac",
   "metadata": {},
   "outputs": [
    {
     "name": "stdout",
     "output_type": "stream",
     "text": [
      "Review by a Software Engineer in Dallas, TX on 2021-02-21 00:00:00\n",
      "\n",
      "Review: \n",
      "\n",
      "Salary Salary. Salary Salary. Salary Salary. Salary Salary. Work life balnce. Work life balnce. Work life balnce.\n",
      "\n",
      "Counts:\n",
      "\n",
      "salary     ->   8\n",
      "pay        ->   0\n",
      "benefits   ->   0\n",
      "bonus      ->   0\n"
     ]
    }
   ],
   "source": [
    "review_row = review_df.sample(1).iloc[0].to_dict()\n",
    "\n",
    "print(f\"Review by a {review_row['job_title']} in {review_row['location']} on {review_row['date']}\")\n",
    "print(f\"\\nReview: \\n\\n{review_row['full_review'].strip()}\")\n",
    "print(\"\\nCounts:\\n\")\n",
    "for col in count_columns:\n",
    "    print(f\"\"\"{col.replace(\"count_\", \"\"):<10} -> {review_row[col]:>3}\"\"\")"
   ]
  },
  {
   "cell_type": "markdown",
   "id": "6402754b-ae36-40f1-9ad3-922b69d1a877",
   "metadata": {},
   "source": [
    "------\n",
    "## Part 3b: Classification - sentiment score\n",
    "----"
   ]
  },
  {
   "cell_type": "markdown",
   "id": "41187db5-f825-40a2-ad13-8cea1857ec8d",
   "metadata": {},
   "source": [
    "### Calculate sentiment score"
   ]
  },
  {
   "cell_type": "code",
   "execution_count": 31,
   "id": "8d994dcc",
   "metadata": {},
   "outputs": [],
   "source": [
    "def add_sentiment(input_str):\n",
    "    return TextBlob(input_str).sentiment.polarity"
   ]
  },
  {
   "cell_type": "code",
   "execution_count": 32,
   "id": "98f5fc72",
   "metadata": {},
   "outputs": [],
   "source": [
    "review_df['pros_sentiment'] = review_df['pros_clean'].apply(add_sentiment)\n",
    "review_df['cons_sentiment'] = review_df['cons_clean'].apply(add_sentiment)\n",
    "review_df['review_sentiment'] = review_df['full_review'].apply(add_sentiment)"
   ]
  },
  {
   "cell_type": "markdown",
   "id": "aafe5d8d-2710-4cb5-9506-f0f89668b07c",
   "metadata": {},
   "source": [
    "### Evaluate"
   ]
  },
  {
   "cell_type": "code",
   "execution_count": 33,
   "id": "5bad3fcf-916c-490b-98f7-281b348a12d9",
   "metadata": {},
   "outputs": [],
   "source": [
    "sentiment_cols = [\"pros_sentiment\", \"cons_sentiment\", \"review_sentiment\"]"
   ]
  },
  {
   "cell_type": "code",
   "execution_count": 34,
   "id": "051df874-a3a2-4e00-a1f0-8084802e71d3",
   "metadata": {},
   "outputs": [
    {
     "data": {
      "text/html": [
       "<div>\n",
       "<style scoped>\n",
       "    .dataframe tbody tr th:only-of-type {\n",
       "        vertical-align: middle;\n",
       "    }\n",
       "\n",
       "    .dataframe tbody tr th {\n",
       "        vertical-align: top;\n",
       "    }\n",
       "\n",
       "    .dataframe thead th {\n",
       "        text-align: right;\n",
       "    }\n",
       "</style>\n",
       "<table border=\"1\" class=\"dataframe\">\n",
       "  <thead>\n",
       "    <tr style=\"text-align: right;\">\n",
       "      <th></th>\n",
       "      <th>pros_sentiment</th>\n",
       "      <th>cons_sentiment</th>\n",
       "      <th>review_sentiment</th>\n",
       "    </tr>\n",
       "  </thead>\n",
       "  <tbody>\n",
       "    <tr>\n",
       "      <th>count</th>\n",
       "      <td>2290.000000</td>\n",
       "      <td>2290.000000</td>\n",
       "      <td>2290.000000</td>\n",
       "    </tr>\n",
       "    <tr>\n",
       "      <th>mean</th>\n",
       "      <td>0.429562</td>\n",
       "      <td>0.045984</td>\n",
       "      <td>0.287490</td>\n",
       "    </tr>\n",
       "    <tr>\n",
       "      <th>std</th>\n",
       "      <td>0.280192</td>\n",
       "      <td>0.280253</td>\n",
       "      <td>0.243551</td>\n",
       "    </tr>\n",
       "    <tr>\n",
       "      <th>min</th>\n",
       "      <td>-1.000000</td>\n",
       "      <td>-1.000000</td>\n",
       "      <td>-1.000000</td>\n",
       "    </tr>\n",
       "    <tr>\n",
       "      <th>25%</th>\n",
       "      <td>0.233333</td>\n",
       "      <td>-0.057244</td>\n",
       "      <td>0.137500</td>\n",
       "    </tr>\n",
       "    <tr>\n",
       "      <th>50%</th>\n",
       "      <td>0.450000</td>\n",
       "      <td>0.000000</td>\n",
       "      <td>0.271825</td>\n",
       "    </tr>\n",
       "    <tr>\n",
       "      <th>75%</th>\n",
       "      <td>0.650000</td>\n",
       "      <td>0.200000</td>\n",
       "      <td>0.433333</td>\n",
       "    </tr>\n",
       "    <tr>\n",
       "      <th>max</th>\n",
       "      <td>1.000000</td>\n",
       "      <td>1.000000</td>\n",
       "      <td>1.000000</td>\n",
       "    </tr>\n",
       "  </tbody>\n",
       "</table>\n",
       "</div>"
      ],
      "text/plain": [
       "       pros_sentiment  cons_sentiment  review_sentiment\n",
       "count     2290.000000     2290.000000       2290.000000\n",
       "mean         0.429562        0.045984          0.287490\n",
       "std          0.280192        0.280253          0.243551\n",
       "min         -1.000000       -1.000000         -1.000000\n",
       "25%          0.233333       -0.057244          0.137500\n",
       "50%          0.450000        0.000000          0.271825\n",
       "75%          0.650000        0.200000          0.433333\n",
       "max          1.000000        1.000000          1.000000"
      ]
     },
     "execution_count": 34,
     "metadata": {},
     "output_type": "execute_result"
    }
   ],
   "source": [
    "review_df[sentiment_cols].describe()"
   ]
  },
  {
   "cell_type": "code",
   "execution_count": 35,
   "id": "2194c4ef-7b2e-473c-b898-d9e34e9bb403",
   "metadata": {},
   "outputs": [
    {
     "name": "stdout",
     "output_type": "stream",
     "text": [
      "Review by a Technical Sourcer in Menlo Park, CA on 2018-10-15 00:00:00\n",
      "\n",
      "Pros: \n",
      "\n",
      "Thorough interview. Good blend of past experience an sourcing knowledge. Conversational but professional. Able to get a strong understanding of team dynamic and measures of success.\n",
      "\n",
      "Cons: \n",
      "\n",
      "Unclear what the conversion to full time process is, how long it takes.\n",
      "\n",
      "Sentiment:\n",
      "\n",
      "pros_sentiment     ->   0.25\n",
      "cons_sentiment     ->   0.15\n",
      "review_sentiment   ->   0.23\n"
     ]
    }
   ],
   "source": [
    "review_row = review_df.sample(1).iloc[0].to_dict()\n",
    "\n",
    "print(f\"Review by a {review_row['job_title']} in {review_row['location']} on {review_row['date']}\")\n",
    "print(f\"\\nPros: \\n\\n{review_row['pros_clean'].strip()}\")\n",
    "print(f\"\\nCons: \\n\\n{review_row['cons_clean'].strip()}\")\n",
    "print(\"\\nSentiment:\\n\")\n",
    "for col in sentiment_cols:\n",
    "    print(f\"\"\"{col:<18} -> {review_row[col]:>6.2f}\"\"\")"
   ]
  },
  {
   "cell_type": "markdown",
   "id": "57f58472-d3c4-49d5-a376-137811d956a9",
   "metadata": {},
   "source": [
    "------\n",
    "## Part 3b: Classification - supervised ML\n",
    "----"
   ]
  },
  {
   "cell_type": "code",
   "execution_count": 36,
   "id": "20d89cf8-e00d-4fdb-9390-ff1ac2429339",
   "metadata": {},
   "outputs": [],
   "source": [
    "from sklearn.feature_extraction.text import CountVectorizer\n",
    "from sklearn.model_selection import train_test_split\n",
    "from sklearn.metrics import classification_report\n",
    "from sklearn.linear_model import LogisticRegression\n",
    "from sklearn.svm import SVC"
   ]
  },
  {
   "cell_type": "markdown",
   "id": "6a884640-ccc5-491f-8e6b-b5ca1c4133ff",
   "metadata": {},
   "source": [
    "## Training data"
   ]
  },
  {
   "cell_type": "code",
   "execution_count": 37,
   "id": "d3d16f51-70f0-46c7-8cdc-96ccc67195c3",
   "metadata": {},
   "outputs": [],
   "source": [
    "define_training_sample = False\n",
    "if define_training_sample:\n",
    "    training_df = review_df.sample(200, random_state = 12345)\n",
    "\n",
    "    training_df = training_df[[\"pros_clean\"]]\n",
    "\n",
    "    training_df[\"mentions_compensation\"] = \"\"\n",
    "\n",
    "    training_df.to_excel(\"training_data_before.xlsx\", index = False)"
   ]
  },
  {
   "cell_type": "code",
   "execution_count": 38,
   "id": "ee00bc31-caf2-434c-b608-3cfa3f14bbd0",
   "metadata": {},
   "outputs": [],
   "source": [
    "## Load back in after we are done\n",
    "training_df = pd.read_excel(\"training_data_after.xlsx\")"
   ]
  },
  {
   "cell_type": "markdown",
   "id": "471e0df9-c0ef-4170-b181-d518a749dbac",
   "metadata": {},
   "source": [
    "### Evaluate"
   ]
  },
  {
   "cell_type": "code",
   "execution_count": 39,
   "id": "52388f84-926f-46af-bf95-044140bc7f59",
   "metadata": {},
   "outputs": [
    {
     "data": {
      "text/html": [
       "<div>\n",
       "<style scoped>\n",
       "    .dataframe tbody tr th:only-of-type {\n",
       "        vertical-align: middle;\n",
       "    }\n",
       "\n",
       "    .dataframe tbody tr th {\n",
       "        vertical-align: top;\n",
       "    }\n",
       "\n",
       "    .dataframe thead th {\n",
       "        text-align: right;\n",
       "    }\n",
       "</style>\n",
       "<table border=\"1\" class=\"dataframe\">\n",
       "  <thead>\n",
       "    <tr style=\"text-align: right;\">\n",
       "      <th></th>\n",
       "      <th>pros_clean</th>\n",
       "      <th>mentions_compensation</th>\n",
       "    </tr>\n",
       "  </thead>\n",
       "  <tbody>\n",
       "    <tr>\n",
       "      <th>159</th>\n",
       "      <td>Free food and fun activities.</td>\n",
       "      <td>0</td>\n",
       "    </tr>\n",
       "    <tr>\n",
       "      <th>187</th>\n",
       "      <td>interesting projects and lots of autonomy.</td>\n",
       "      <td>0</td>\n",
       "    </tr>\n",
       "  </tbody>\n",
       "</table>\n",
       "</div>"
      ],
      "text/plain": [
       "                                     pros_clean  mentions_compensation\n",
       "159               Free food and fun activities.                      0\n",
       "187  interesting projects and lots of autonomy.                      0"
      ]
     },
     "execution_count": 39,
     "metadata": {},
     "output_type": "execute_result"
    }
   ],
   "source": [
    "training_df.sample(2)"
   ]
  },
  {
   "cell_type": "code",
   "execution_count": 40,
   "id": "4d26c161-2ffe-4aa8-8d02-4c98df21633b",
   "metadata": {},
   "outputs": [
    {
     "data": {
      "text/plain": [
       "0    106 - 53%\n",
       "1     94 - 47%\n",
       "Name: mentions_compensation, dtype: object"
      ]
     },
     "execution_count": 40,
     "metadata": {},
     "output_type": "execute_result"
    }
   ],
   "source": [
    "_ = training_df\n",
    "_.mentions_compensation.value_counts().apply(lambda x: f\"{x} - {x/len(_):.0%}\")"
   ]
  },
  {
   "cell_type": "markdown",
   "id": "d642bdb9-2ac9-4ef9-92ee-a9464c73f0a9",
   "metadata": {},
   "source": [
    "## Represent numerically"
   ]
  },
  {
   "cell_type": "code",
   "execution_count": 41,
   "id": "e7eadca9-0c12-4b0e-9b73-b2f51c8f8524",
   "metadata": {},
   "outputs": [],
   "source": [
    "transformer = CountVectorizer(stop_words='english')\n",
    "tf = transformer.fit_transform(training_df[\"pros_clean\"])"
   ]
  },
  {
   "cell_type": "markdown",
   "id": "9c845bbb-53e0-4229-a917-3ac7086864a1",
   "metadata": {},
   "source": [
    "### Evaluate"
   ]
  },
  {
   "cell_type": "code",
   "execution_count": 42,
   "id": "8df0f2fd-afab-4884-8493-8686c148bb6e",
   "metadata": {},
   "outputs": [
    {
     "data": {
      "text/plain": [
       "(200, 740)"
      ]
     },
     "execution_count": 42,
     "metadata": {},
     "output_type": "execute_result"
    }
   ],
   "source": [
    "tf.shape ## We have 740 unique words"
   ]
  },
  {
   "cell_type": "code",
   "execution_count": 43,
   "id": "e8e335cc-bdcc-4d7f-98fe-a2f24e8bf4f8",
   "metadata": {},
   "outputs": [],
   "source": [
    "tf_df = pd.DataFrame(tf.toarray(), columns = transformer.get_feature_names_out())"
   ]
  },
  {
   "cell_type": "code",
   "execution_count": 44,
   "id": "410c2218-2404-4e66-b8e3-c837ce3e2713",
   "metadata": {},
   "outputs": [
    {
     "data": {
      "text/html": [
       "<div>\n",
       "<style scoped>\n",
       "    .dataframe tbody tr th:only-of-type {\n",
       "        vertical-align: middle;\n",
       "    }\n",
       "\n",
       "    .dataframe tbody tr th {\n",
       "        vertical-align: top;\n",
       "    }\n",
       "\n",
       "    .dataframe thead th {\n",
       "        text-align: right;\n",
       "    }\n",
       "</style>\n",
       "<table border=\"1\" class=\"dataframe\">\n",
       "  <thead>\n",
       "    <tr style=\"text-align: right;\">\n",
       "      <th></th>\n",
       "      <th>25</th>\n",
       "      <th>175</th>\n",
       "      <th>156</th>\n",
       "      <th>58</th>\n",
       "      <th>123</th>\n",
       "      <th>76</th>\n",
       "      <th>16</th>\n",
       "      <th>56</th>\n",
       "      <th>162</th>\n",
       "      <th>179</th>\n",
       "    </tr>\n",
       "  </thead>\n",
       "  <tbody>\n",
       "    <tr>\n",
       "      <th>jobs</th>\n",
       "      <td>0</td>\n",
       "      <td>0</td>\n",
       "      <td>0</td>\n",
       "      <td>0</td>\n",
       "      <td>0</td>\n",
       "      <td>0</td>\n",
       "      <td>0</td>\n",
       "      <td>0</td>\n",
       "      <td>0</td>\n",
       "      <td>0</td>\n",
       "    </tr>\n",
       "    <tr>\n",
       "      <th>unnecessary</th>\n",
       "      <td>0</td>\n",
       "      <td>0</td>\n",
       "      <td>0</td>\n",
       "      <td>0</td>\n",
       "      <td>0</td>\n",
       "      <td>0</td>\n",
       "      <td>0</td>\n",
       "      <td>0</td>\n",
       "      <td>0</td>\n",
       "      <td>0</td>\n",
       "    </tr>\n",
       "    <tr>\n",
       "      <th>shop</th>\n",
       "      <td>0</td>\n",
       "      <td>0</td>\n",
       "      <td>0</td>\n",
       "      <td>0</td>\n",
       "      <td>0</td>\n",
       "      <td>0</td>\n",
       "      <td>0</td>\n",
       "      <td>0</td>\n",
       "      <td>0</td>\n",
       "      <td>0</td>\n",
       "    </tr>\n",
       "    <tr>\n",
       "      <th>super</th>\n",
       "      <td>0</td>\n",
       "      <td>0</td>\n",
       "      <td>0</td>\n",
       "      <td>0</td>\n",
       "      <td>0</td>\n",
       "      <td>0</td>\n",
       "      <td>0</td>\n",
       "      <td>0</td>\n",
       "      <td>0</td>\n",
       "      <td>0</td>\n",
       "    </tr>\n",
       "    <tr>\n",
       "      <th>just</th>\n",
       "      <td>0</td>\n",
       "      <td>0</td>\n",
       "      <td>0</td>\n",
       "      <td>0</td>\n",
       "      <td>0</td>\n",
       "      <td>2</td>\n",
       "      <td>0</td>\n",
       "      <td>0</td>\n",
       "      <td>0</td>\n",
       "      <td>0</td>\n",
       "    </tr>\n",
       "    <tr>\n",
       "      <th>learn</th>\n",
       "      <td>0</td>\n",
       "      <td>0</td>\n",
       "      <td>0</td>\n",
       "      <td>0</td>\n",
       "      <td>0</td>\n",
       "      <td>0</td>\n",
       "      <td>0</td>\n",
       "      <td>0</td>\n",
       "      <td>0</td>\n",
       "      <td>0</td>\n",
       "    </tr>\n",
       "    <tr>\n",
       "      <th>view</th>\n",
       "      <td>0</td>\n",
       "      <td>0</td>\n",
       "      <td>0</td>\n",
       "      <td>0</td>\n",
       "      <td>0</td>\n",
       "      <td>0</td>\n",
       "      <td>0</td>\n",
       "      <td>0</td>\n",
       "      <td>0</td>\n",
       "      <td>0</td>\n",
       "    </tr>\n",
       "    <tr>\n",
       "      <th>celebrated</th>\n",
       "      <td>0</td>\n",
       "      <td>0</td>\n",
       "      <td>0</td>\n",
       "      <td>0</td>\n",
       "      <td>0</td>\n",
       "      <td>0</td>\n",
       "      <td>0</td>\n",
       "      <td>0</td>\n",
       "      <td>0</td>\n",
       "      <td>0</td>\n",
       "    </tr>\n",
       "    <tr>\n",
       "      <th>ideas</th>\n",
       "      <td>0</td>\n",
       "      <td>0</td>\n",
       "      <td>0</td>\n",
       "      <td>0</td>\n",
       "      <td>0</td>\n",
       "      <td>0</td>\n",
       "      <td>0</td>\n",
       "      <td>0</td>\n",
       "      <td>0</td>\n",
       "      <td>0</td>\n",
       "    </tr>\n",
       "    <tr>\n",
       "      <th>prove</th>\n",
       "      <td>0</td>\n",
       "      <td>0</td>\n",
       "      <td>0</td>\n",
       "      <td>0</td>\n",
       "      <td>0</td>\n",
       "      <td>1</td>\n",
       "      <td>0</td>\n",
       "      <td>0</td>\n",
       "      <td>0</td>\n",
       "      <td>0</td>\n",
       "    </tr>\n",
       "  </tbody>\n",
       "</table>\n",
       "</div>"
      ],
      "text/plain": [
       "             25   175  156  58   123  76   16   56   162  179\n",
       "jobs           0    0    0    0    0    0    0    0    0    0\n",
       "unnecessary    0    0    0    0    0    0    0    0    0    0\n",
       "shop           0    0    0    0    0    0    0    0    0    0\n",
       "super          0    0    0    0    0    0    0    0    0    0\n",
       "just           0    0    0    0    0    2    0    0    0    0\n",
       "learn          0    0    0    0    0    0    0    0    0    0\n",
       "view           0    0    0    0    0    0    0    0    0    0\n",
       "celebrated     0    0    0    0    0    0    0    0    0    0\n",
       "ideas          0    0    0    0    0    0    0    0    0    0\n",
       "prove          0    0    0    0    0    1    0    0    0    0"
      ]
     },
     "execution_count": 44,
     "metadata": {},
     "output_type": "execute_result"
    }
   ],
   "source": [
    "tf_df.sample(10).T.sample(10)"
   ]
  },
  {
   "cell_type": "code",
   "execution_count": 45,
   "id": "948554cf-5cef-4acc-a445-24cdcd0eaf2e",
   "metadata": {},
   "outputs": [
    {
     "data": {
      "text/plain": [
       "'Good managers with experience in hand. Lot to learn.'"
      ]
     },
     "execution_count": 45,
     "metadata": {},
     "output_type": "execute_result"
    }
   ],
   "source": [
    "training_df.iloc[83].pros_clean"
   ]
  },
  {
   "cell_type": "markdown",
   "id": "b22e54f5-ec44-46d7-8bd8-4ae9f46bae8f",
   "metadata": {},
   "source": [
    "## Train"
   ]
  },
  {
   "cell_type": "markdown",
   "id": "fba0f9d8-67a3-467f-bb59-63858880828f",
   "metadata": {},
   "source": [
    "### Let's create a train - test split"
   ]
  },
  {
   "cell_type": "code",
   "execution_count": 46,
   "id": "42318d03-47eb-47de-9490-a991a8b73911",
   "metadata": {},
   "outputs": [],
   "source": [
    "X_train, X_test, y_train, y_test = train_test_split(\n",
    "    tf,\n",
    "    training_df[\"mentions_compensation\"], \n",
    "    test_size=0.25, \n",
    "    random_state=0, \n",
    "    stratify=training_df[\"mentions_compensation\"]\n",
    ")"
   ]
  },
  {
   "cell_type": "code",
   "execution_count": 47,
   "id": "289f24e2-05a2-4115-9068-be9af04b3e92",
   "metadata": {},
   "outputs": [
    {
     "data": {
      "text/plain": [
       "(150, 740)"
      ]
     },
     "execution_count": 47,
     "metadata": {},
     "output_type": "execute_result"
    }
   ],
   "source": [
    "X_train.shape"
   ]
  },
  {
   "cell_type": "code",
   "execution_count": 48,
   "id": "3fa11d6a-5d24-4ece-946a-7b28ef72a887",
   "metadata": {},
   "outputs": [
    {
     "data": {
      "text/plain": [
       "(50, 740)"
      ]
     },
     "execution_count": 48,
     "metadata": {},
     "output_type": "execute_result"
    }
   ],
   "source": [
    "X_test.shape"
   ]
  },
  {
   "cell_type": "markdown",
   "id": "e9e55e54-bf3b-4d11-86e8-df6319d7e07d",
   "metadata": {},
   "source": [
    "### Train a logistic regression\n",
    "\n",
    "For simplicity sake I am skipping over multiple things here (e.g., hyper-parameter optimization, pipelines, and N-fold cross validation). For a more comprehensive overview, see the sci-kit learn documentation:\n",
    "\n",
    "https://scikit-learn.org/stable/supervised_learning.html#supervised-learning"
   ]
  },
  {
   "cell_type": "code",
   "execution_count": 49,
   "id": "89cdd829-8647-4f8e-b456-b4ba7be9d523",
   "metadata": {},
   "outputs": [],
   "source": [
    "clf = LogisticRegression(random_state=0).fit(X_train, y_train)"
   ]
  },
  {
   "cell_type": "code",
   "execution_count": 50,
   "id": "74113d3c-99ce-4eb8-8961-056a4d65ef68",
   "metadata": {},
   "outputs": [
    {
     "name": "stdout",
     "output_type": "stream",
     "text": [
      "              precision    recall  f1-score   support\n",
      "\n",
      "           0       0.76      0.96      0.85        27\n",
      "           1       0.94      0.65      0.77        23\n",
      "\n",
      "    accuracy                           0.82        50\n",
      "   macro avg       0.85      0.81      0.81        50\n",
      "weighted avg       0.84      0.82      0.81        50\n",
      "\n"
     ]
    }
   ],
   "source": [
    "print(classification_report(y_test, clf.predict(X_test)))"
   ]
  },
  {
   "cell_type": "markdown",
   "id": "5c52c645-34a6-43a0-ad57-7f90419fdbfb",
   "metadata": {},
   "source": [
    "## Make predictions"
   ]
  },
  {
   "cell_type": "markdown",
   "id": "ce9e7565-2d1e-4f8b-9c34-0f95df07422a",
   "metadata": {},
   "source": [
    "### Identify training predictions"
   ]
  },
  {
   "cell_type": "code",
   "execution_count": 51,
   "id": "9ffbe0de-1800-4f36-87cc-6b4ebea30812",
   "metadata": {},
   "outputs": [],
   "source": [
    "review_df[\"in_training\"] = review_df.pros_clean.isin(training_df.pros_clean.values)"
   ]
  },
  {
   "cell_type": "code",
   "execution_count": 52,
   "id": "cb896c82-1631-4bd8-a0a5-8db91ef7457d",
   "metadata": {},
   "outputs": [
    {
     "data": {
      "text/plain": [
       "False    2090\n",
       "True      200\n",
       "Name: in_training, dtype: int64"
      ]
     },
     "execution_count": 52,
     "metadata": {},
     "output_type": "execute_result"
    }
   ],
   "source": [
    "review_df.in_training.value_counts()"
   ]
  },
  {
   "cell_type": "code",
   "execution_count": 53,
   "id": "a3348f29-6188-46b9-ae5e-2881d7d01a1e",
   "metadata": {},
   "outputs": [],
   "source": [
    "review_df = pd.merge(review_df, training_df, on = \"pros_clean\", how = \"left\")"
   ]
  },
  {
   "cell_type": "markdown",
   "id": "4160188e-1ab9-400f-a102-13c4a8f1ea43",
   "metadata": {},
   "source": [
    "### Create predictions "
   ]
  },
  {
   "cell_type": "code",
   "execution_count": 54,
   "id": "1e84c1ea-63aa-4448-95a3-b97e8d96d063",
   "metadata": {},
   "outputs": [],
   "source": [
    "inpt_vector = transformer.transform(review_df.pros_clean)"
   ]
  },
  {
   "cell_type": "code",
   "execution_count": 55,
   "id": "eff51ea9-e6ee-4b78-9605-84d9eb17245f",
   "metadata": {},
   "outputs": [],
   "source": [
    "review_df[\"prediction\"] = clf.predict(inpt_vector)"
   ]
  },
  {
   "cell_type": "markdown",
   "id": "f8df3bb7-86d9-4793-9e5e-0d050448f634",
   "metadata": {},
   "source": [
    "### Evaluate"
   ]
  },
  {
   "cell_type": "code",
   "execution_count": 56,
   "id": "c7f717ee-6085-4505-89d9-d69a1906cc45",
   "metadata": {},
   "outputs": [
    {
     "name": "stdout",
     "output_type": "stream",
     "text": [
      "Review by a Software Engineer in Seattle, WA on 2018-02-01 00:00:00\n",
      "\n",
      "Pros: \n",
      "\n",
      "If youre smart and good at software engineering, this place is the best for your career development. Excellent people, excellent food, excellent pay.\n",
      "\n",
      "Prediction:\n",
      "\n",
      "in_training             ->     0\n",
      "mentions_compensation   ->   nan\n",
      "prediction              ->     0\n"
     ]
    }
   ],
   "source": [
    "review_row = review_df.sample(1).iloc[0].to_dict()\n",
    "\n",
    "print(f\"Review by a {review_row['job_title']} in {review_row['location']} on {review_row['date']}\")\n",
    "print(f\"\\nPros: \\n\\n{review_row['pros_clean'].strip()}\")\n",
    "print(\"\\nPrediction:\\n\")\n",
    "for col in [\"in_training\", \"mentions_compensation\", \"prediction\"]:\n",
    "    print(f\"\"\"{col:<23} -> {review_row[col]:>5.0f}\"\"\")"
   ]
  },
  {
   "cell_type": "markdown",
   "id": "df67466d-2148-4dda-81c3-733f129089f3",
   "metadata": {},
   "source": [
    "------\n",
    "## Part 3c: Unsupervised topic modeling\n",
    "----"
   ]
  },
  {
   "cell_type": "code",
   "execution_count": 57,
   "id": "f21c4ea4-77d4-4429-891c-851676c28a7f",
   "metadata": {},
   "outputs": [],
   "source": [
    "from sklearn.decomposition import LatentDirichletAllocation\n",
    "from sklearn.feature_extraction.text import CountVectorizer"
   ]
  },
  {
   "cell_type": "markdown",
   "id": "e3cc5d8c",
   "metadata": {},
   "source": [
    "## Prepare the data"
   ]
  },
  {
   "cell_type": "code",
   "execution_count": 58,
   "id": "647a59c3",
   "metadata": {},
   "outputs": [],
   "source": [
    "clean_cons_l = review_df['cons_clean_l'].tolist()"
   ]
  },
  {
   "cell_type": "code",
   "execution_count": 59,
   "id": "ec3fde42",
   "metadata": {},
   "outputs": [],
   "source": [
    "vec_cons = CountVectorizer(stop_words='english', max_df=0.95, min_df=2)\n",
    "tf_cons = vec_cons.fit_transform(clean_cons_l)"
   ]
  },
  {
   "cell_type": "markdown",
   "id": "20f708da",
   "metadata": {},
   "source": [
    "## Train the models"
   ]
  },
  {
   "cell_type": "code",
   "execution_count": 66,
   "id": "2d4bdf32",
   "metadata": {},
   "outputs": [],
   "source": [
    "n_topics = 5\n",
    "lda_cons = LatentDirichletAllocation(n_components=n_topics, max_iter=10,\n",
    "                                learning_method='online',\n",
    "                                n_jobs=1)\n",
    "lda_f_cons = lda_cons.fit_transform(tf_cons)"
   ]
  },
  {
   "cell_type": "markdown",
   "id": "feb6302e-5b51-46a3-860d-d91986d4c611",
   "metadata": {},
   "source": [
    "### Show most common keywords per cluster"
   ]
  },
  {
   "cell_type": "code",
   "execution_count": 67,
   "id": "a1d8d83a-6495-4c85-a4a9-2bd3050e7bbc",
   "metadata": {},
   "outputs": [
    {
     "name": "stdout",
     "output_type": "stream",
     "text": [
      "(1, 'lot, cons, long, hours, working, culture, process, company, environment, stressful')\n",
      "(2, 'company, facebook, management, people, like, really, teams, time, big, manager')\n",
      "(3, 'work, balance, life, high, bad, worklife, pressure, hard, great, good')\n",
      "(4, 'youre, people, company, dont, impact, means, make, bit, getting, team')\n",
      "(5, 'fast, think, growth, things, company, growing, focus, lots, lot, leadership')\n"
     ]
    }
   ],
   "source": [
    "feature_names = vec_cons.get_feature_names_out()\n",
    "n_top_words = 10\n",
    "for topic_idx, topic in enumerate(lda_cons.components_):\n",
    "        print((topic_idx+1, \", \".join([feature_names[i] for i in topic.argsort()[:-n_top_words - 1:-1]])))"
   ]
  },
  {
   "cell_type": "markdown",
   "id": "59aab2a2",
   "metadata": {},
   "source": [
    "## Visualize\n",
    "PyLDAvis is a nice package but it often does not work and can create issues with Jupyter. "
   ]
  },
  {
   "cell_type": "code",
   "execution_count": 68,
   "id": "bb90c84b-23fe-4eda-b8aa-ec78d18fdf27",
   "metadata": {},
   "outputs": [
    {
     "data": {
      "text/html": [
       "<style> \n",
       "   .jp-icon-warn0 path {fill: var(--jp-warn-color0);} \n",
       "   .bp3-button-text path {    fill: var(--jp-inverse-layout-color3);} \n",
       "   .jp-icon-brand0 path { fill: var(--jp-brand-color0);} \n",
       "   text.terms { fill: #616161;} \n",
       "</style>"
      ],
      "text/plain": [
       "<IPython.core.display.HTML object>"
      ]
     },
     "metadata": {},
     "output_type": "display_data"
    }
   ],
   "source": [
    "from IPython.display import HTML  \n",
    "css_str = '''<style> \n",
    "   .jp-icon-warn0 path {fill: var(--jp-warn-color0);} \n",
    "   .bp3-button-text path {    fill: var(--jp-inverse-layout-color3);} \n",
    "   .jp-icon-brand0 path { fill: var(--jp-brand-color0);} \n",
    "   text.terms { fill: #616161;} \n",
    "</style>'''\n",
    "display(HTML(css_str))"
   ]
  },
  {
   "cell_type": "markdown",
   "id": "efc32dd4-c212-4960-854c-86e167bc3263",
   "metadata": {},
   "source": [
    "import pyLDAvis\n",
    "import pyLDAvis.sklearn\n",
    "pyLDAvis.enable_notebook()"
   ]
  },
  {
   "cell_type": "markdown",
   "id": "56e6abdb-0997-4de5-bc4e-732d17a3df64",
   "metadata": {},
   "source": [
    "pyLDAvis.sklearn.prepare(lda_cons, tf_cons, vec_cons, n_jobs=1)"
   ]
  }
 ],
 "metadata": {
  "kernelspec": {
   "display_name": "Python 3 (ipykernel)",
   "language": "python",
   "name": "python3"
  },
  "language_info": {
   "codemirror_mode": {
    "name": "ipython",
    "version": 3
   },
   "file_extension": ".py",
   "mimetype": "text/x-python",
   "name": "python",
   "nbconvert_exporter": "python",
   "pygments_lexer": "ipython3",
   "version": "3.9.15"
  }
 },
 "nbformat": 4,
 "nbformat_minor": 5
}
